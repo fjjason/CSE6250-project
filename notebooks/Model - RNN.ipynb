{
 "cells": [
  {
   "cell_type": "code",
   "execution_count": 1,
   "metadata": {},
   "outputs": [
    {
     "name": "stderr",
     "output_type": "stream",
     "text": [
      "/opt/anaconda3/envs/cse6250-project-sleep/lib/python3.6/site-packages/lightgbm/__init__.py:48: UserWarning: Starting from version 2.2.1, the library file in distribution wheels for macOS is built by the Apple Clang (Xcode_8.3.3) compiler.\n",
      "This means that in case of installing LightGBM from PyPI via the ``pip install lightgbm`` command, you don't need to install the gcc compiler anymore.\n",
      "Instead of that, you need to install the OpenMP library, which is required for running LightGBM on the system with the Apple Clang compiler.\n",
      "You can install the OpenMP library by the following command: ``brew install libomp``.\n",
      "  \"You can install the OpenMP library by the following command: ``brew install libomp``.\", UserWarning)\n"
     ]
    }
   ],
   "source": [
    "import matplotlib.pyplot as plt\n",
    "import numpy as np\n",
    "import pandas as pd\n",
    "from matplotlib import pyplot as plt\n",
    "from time import time\n",
    "import pickle\n",
    "import lightgbm as lgb\n",
    "from collections import Counter\n",
    "from sklearn.model_selection import train_test_split\n",
    "from sklearn.linear_model import LogisticRegression\n",
    "from sklearn.ensemble import RandomForestClassifier\n",
    "from sklearn.metrics import accuracy_score\n",
    "from sklearn.metrics import log_loss\n",
    "from sklearn.metrics import confusion_matrix\n",
    "from sklearn.metrics import roc_auc_score\n",
    "from sklearn.metrics import roc_curve\n",
    "from sklearn.metrics import average_precision_score\n",
    "from sklearn.metrics import precision_recall_curve\n",
    "import seaborn as sns\n",
    "\n",
    "import torch\n",
    "import torch.nn as nn\n",
    "import torch.nn.functional as F\n",
    "import torch.optim as optim\n",
    "from torch.nn import Embedding\n",
    "from torch.autograd import Variable\n",
    "from torch.utils.data import DataLoader, TensorDataset\n",
    "from torch.nn.utils.rnn import pack_padded_sequence, pad_packed_sequence"
   ]
  },
  {
   "cell_type": "code",
   "execution_count": 2,
   "metadata": {},
   "outputs": [],
   "source": [
    "class RNN(nn.Module):\n",
    "    def __init__(self):\n",
    "        super(RNN, self).__init__()\n",
    "        self.rnn = nn.GRU(input_size=1, hidden_size=64,\n",
    "                          num_layers=2, batch_first=True, dropout=0.5)\n",
    "        self.fc = nn.Linear(in_features=64, out_features=2)\n",
    "\n",
    "    def forward(self, x):\n",
    "        x, _ = self.rnn(x)\n",
    "        x = self.fc(x[:, -1, :])\n",
    "        return x\n",
    "\n",
    "\n",
    "model = RNN()\n",
    "criterion = nn.CrossEntropyLoss()\n",
    "optimizer = optim.Adam(model.parameters())"
   ]
  },
  {
   "cell_type": "code",
   "execution_count": 3,
   "metadata": {},
   "outputs": [],
   "source": [
    "import numpy as np\n",
    "import pandas as pd\n",
    "from matplotlib import pyplot as plt\n",
    "import mne\n",
    "from mne.io import read_raw_edf\n",
    "import os\n",
    "import re\n",
    "import scipy\n",
    "from scipy.signal import welch\n",
    "from scipy.integrate import simps\n",
    "from time import time\n",
    "import pickle\n",
    "import matplotlib.cm as cm"
   ]
  },
  {
   "cell_type": "code",
   "execution_count": 4,
   "metadata": {},
   "outputs": [
    {
     "data": {
      "text/html": [
       "<div>\n",
       "<style scoped>\n",
       "    .dataframe tbody tr th:only-of-type {\n",
       "        vertical-align: middle;\n",
       "    }\n",
       "\n",
       "    .dataframe tbody tr th {\n",
       "        vertical-align: top;\n",
       "    }\n",
       "\n",
       "    .dataframe thead th {\n",
       "        text-align: right;\n",
       "    }\n",
       "</style>\n",
       "<table border=\"1\" class=\"dataframe\">\n",
       "  <thead>\n",
       "    <tr style=\"text-align: right;\">\n",
       "      <th></th>\n",
       "      <th>path</th>\n",
       "      <th>channels</th>\n",
       "      <th>n_records</th>\n",
       "      <th>n_channels</th>\n",
       "      <th>label</th>\n",
       "    </tr>\n",
       "  </thead>\n",
       "  <tbody>\n",
       "    <tr>\n",
       "      <td>0</td>\n",
       "      <td>sleep-cassette/SC4001E0-PSG.edf</td>\n",
       "      <td>['EEG Fpz-Cz', 'EEG Pz-Oz', 'EOG horizontal', ...</td>\n",
       "      <td>7950000</td>\n",
       "      <td>111</td>\n",
       "      <td>0</td>\n",
       "    </tr>\n",
       "    <tr>\n",
       "      <td>1</td>\n",
       "      <td>sleep-cassette/SC4002E0-PSG.edf</td>\n",
       "      <td>['EEG Fpz-Cz', 'EEG Pz-Oz', 'EOG horizontal', ...</td>\n",
       "      <td>8490000</td>\n",
       "      <td>111</td>\n",
       "      <td>0</td>\n",
       "    </tr>\n",
       "    <tr>\n",
       "      <td>2</td>\n",
       "      <td>sleep-cassette/SC4011E0-PSG.edf</td>\n",
       "      <td>['EEG Fpz-Cz', 'EEG Pz-Oz', 'EOG horizontal', ...</td>\n",
       "      <td>8406000</td>\n",
       "      <td>111</td>\n",
       "      <td>0</td>\n",
       "    </tr>\n",
       "    <tr>\n",
       "      <td>3</td>\n",
       "      <td>sleep-cassette/SC4012E0-PSG.edf</td>\n",
       "      <td>['EEG Fpz-Cz', 'EEG Pz-Oz', 'EOG horizontal', ...</td>\n",
       "      <td>8550000</td>\n",
       "      <td>111</td>\n",
       "      <td>0</td>\n",
       "    </tr>\n",
       "    <tr>\n",
       "      <td>4</td>\n",
       "      <td>sleep-cassette/SC4021E0-PSG.edf</td>\n",
       "      <td>['EEG Fpz-Cz', 'EEG Pz-Oz', 'EOG horizontal', ...</td>\n",
       "      <td>8412000</td>\n",
       "      <td>111</td>\n",
       "      <td>0</td>\n",
       "    </tr>\n",
       "  </tbody>\n",
       "</table>\n",
       "</div>"
      ],
      "text/plain": [
       "                              path  \\\n",
       "0  sleep-cassette/SC4001E0-PSG.edf   \n",
       "1  sleep-cassette/SC4002E0-PSG.edf   \n",
       "2  sleep-cassette/SC4011E0-PSG.edf   \n",
       "3  sleep-cassette/SC4012E0-PSG.edf   \n",
       "4  sleep-cassette/SC4021E0-PSG.edf   \n",
       "\n",
       "                                            channels  n_records  n_channels  \\\n",
       "0  ['EEG Fpz-Cz', 'EEG Pz-Oz', 'EOG horizontal', ...    7950000         111   \n",
       "1  ['EEG Fpz-Cz', 'EEG Pz-Oz', 'EOG horizontal', ...    8490000         111   \n",
       "2  ['EEG Fpz-Cz', 'EEG Pz-Oz', 'EOG horizontal', ...    8406000         111   \n",
       "3  ['EEG Fpz-Cz', 'EEG Pz-Oz', 'EOG horizontal', ...    8550000         111   \n",
       "4  ['EEG Fpz-Cz', 'EEG Pz-Oz', 'EOG horizontal', ...    8412000         111   \n",
       "\n",
       "   label  \n",
       "0      0  \n",
       "1      0  \n",
       "2      0  \n",
       "3      0  \n",
       "4      0  "
      ]
     },
     "execution_count": 4,
     "metadata": {},
     "output_type": "execute_result"
    }
   ],
   "source": [
    "eeg_info_df = pd.read_csv('../data/eeg_info_df.csv')\n",
    "eeg_info_df['n_channels'] = eeg_info_df.channels.map(len)\n",
    "eeg_info_df['label'] = np.where(eeg_info_df.path.map(\n",
    "    lambda x: x.split('/')[0]) == 'sleep-telemetry', 1, 0)\n",
    "eeg_info_df.head()"
   ]
  },
  {
   "cell_type": "code",
   "execution_count": 5,
   "metadata": {},
   "outputs": [
    {
     "data": {
      "text/html": [
       "<div>\n",
       "<style scoped>\n",
       "    .dataframe tbody tr th:only-of-type {\n",
       "        vertical-align: middle;\n",
       "    }\n",
       "\n",
       "    .dataframe tbody tr th {\n",
       "        vertical-align: top;\n",
       "    }\n",
       "\n",
       "    .dataframe thead th {\n",
       "        text-align: right;\n",
       "    }\n",
       "</style>\n",
       "<table border=\"1\" class=\"dataframe\">\n",
       "  <thead>\n",
       "    <tr style=\"text-align: right;\">\n",
       "      <th></th>\n",
       "      <th>path</th>\n",
       "      <th>channels</th>\n",
       "      <th>n_records</th>\n",
       "      <th>n_channels</th>\n",
       "      <th>label</th>\n",
       "    </tr>\n",
       "  </thead>\n",
       "  <tbody>\n",
       "    <tr>\n",
       "      <td>192</td>\n",
       "      <td>sleep-telemetry/ST7212J0-PSG.edf</td>\n",
       "      <td>['EEG Fpz-Cz', 'EEG Pz-Oz', 'EOG horizontal', ...</td>\n",
       "      <td>3162000</td>\n",
       "      <td>72</td>\n",
       "      <td>1</td>\n",
       "    </tr>\n",
       "    <tr>\n",
       "      <td>193</td>\n",
       "      <td>sleep-telemetry/ST7221J0-PSG.edf</td>\n",
       "      <td>['EEG Fpz-Cz', 'EEG Pz-Oz', 'EOG horizontal', ...</td>\n",
       "      <td>3296000</td>\n",
       "      <td>72</td>\n",
       "      <td>1</td>\n",
       "    </tr>\n",
       "    <tr>\n",
       "      <td>194</td>\n",
       "      <td>sleep-telemetry/ST7222J0-PSG.edf</td>\n",
       "      <td>['EEG Fpz-Cz', 'EEG Pz-Oz', 'EOG horizontal', ...</td>\n",
       "      <td>2874000</td>\n",
       "      <td>72</td>\n",
       "      <td>1</td>\n",
       "    </tr>\n",
       "    <tr>\n",
       "      <td>195</td>\n",
       "      <td>sleep-telemetry/ST7241J0-PSG.edf</td>\n",
       "      <td>['EEG Fpz-Cz', 'EEG Pz-Oz', 'EOG horizontal', ...</td>\n",
       "      <td>3261000</td>\n",
       "      <td>72</td>\n",
       "      <td>1</td>\n",
       "    </tr>\n",
       "    <tr>\n",
       "      <td>196</td>\n",
       "      <td>sleep-telemetry/ST7242J0-PSG.edf</td>\n",
       "      <td>['EEG Fpz-Cz', 'EEG Pz-Oz', 'EOG horizontal', ...</td>\n",
       "      <td>2948000</td>\n",
       "      <td>72</td>\n",
       "      <td>1</td>\n",
       "    </tr>\n",
       "  </tbody>\n",
       "</table>\n",
       "</div>"
      ],
      "text/plain": [
       "                                 path  \\\n",
       "192  sleep-telemetry/ST7212J0-PSG.edf   \n",
       "193  sleep-telemetry/ST7221J0-PSG.edf   \n",
       "194  sleep-telemetry/ST7222J0-PSG.edf   \n",
       "195  sleep-telemetry/ST7241J0-PSG.edf   \n",
       "196  sleep-telemetry/ST7242J0-PSG.edf   \n",
       "\n",
       "                                              channels  n_records  n_channels  \\\n",
       "192  ['EEG Fpz-Cz', 'EEG Pz-Oz', 'EOG horizontal', ...    3162000          72   \n",
       "193  ['EEG Fpz-Cz', 'EEG Pz-Oz', 'EOG horizontal', ...    3296000          72   \n",
       "194  ['EEG Fpz-Cz', 'EEG Pz-Oz', 'EOG horizontal', ...    2874000          72   \n",
       "195  ['EEG Fpz-Cz', 'EEG Pz-Oz', 'EOG horizontal', ...    3261000          72   \n",
       "196  ['EEG Fpz-Cz', 'EEG Pz-Oz', 'EOG horizontal', ...    2948000          72   \n",
       "\n",
       "     label  \n",
       "192      1  \n",
       "193      1  \n",
       "194      1  \n",
       "195      1  \n",
       "196      1  "
      ]
     },
     "execution_count": 5,
     "metadata": {},
     "output_type": "execute_result"
    }
   ],
   "source": [
    "eeg_info_df.tail()"
   ]
  },
  {
   "cell_type": "code",
   "execution_count": 9,
   "metadata": {},
   "outputs": [
    {
     "data": {
      "text/plain": [
       "0    153\n",
       "1     44\n",
       "Name: label, dtype: int64"
      ]
     },
     "execution_count": 9,
     "metadata": {},
     "output_type": "execute_result"
    }
   ],
   "source": [
    "eeg_info_df['label'].value_counts()"
   ]
  },
  {
   "cell_type": "code",
   "execution_count": 10,
   "metadata": {},
   "outputs": [
    {
     "data": {
      "text/plain": [
       "array([[  0, 111],\n",
       "       [  1,  72]])"
      ]
     },
     "execution_count": 10,
     "metadata": {},
     "output_type": "execute_result"
    }
   ],
   "source": [
    "np.unique(eeg_info_df[['label', 'n_channels']].values, axis=0)"
   ]
  },
  {
   "cell_type": "markdown",
   "metadata": {},
   "source": [
    "# Training inline with reading data"
   ]
  },
  {
   "cell_type": "code",
   "execution_count": 12,
   "metadata": {},
   "outputs": [],
   "source": [
    "def make_training_set(df, label):\n",
    "    features_list = []\n",
    "    label_list = []\n",
    "\n",
    "    sf = 100\n",
    "    time_interval = 3600\n",
    "    n = edf_df.shape[0]\n",
    "    n_hours = n//(time_interval*sf)\n",
    "    for j in range(n_hours):\n",
    "        temp_df = edf_df.iloc[(j*time_interval*sf):((j+1)*time_interval*sf), :]\n",
    "        features_list.append(temp_df[['EEG Fpz-Cz']].values)\n",
    "        label_list.append(label)\n",
    "\n",
    "    X = np.array(features_list)\n",
    "    y = np.array([label] * n_hours)\n",
    "    print(X.shape)\n",
    "    print(y.shape)\n",
    "    return X, y"
   ]
  },
  {
   "cell_type": "code",
   "execution_count": null,
   "metadata": {},
   "outputs": [
    {
     "name": "stdout",
     "output_type": "stream",
     "text": [
      "Training from data: sleep-cassette/SC4001E0-PSG.edf...\n",
      "Extracting EDF parameters from /Users/oulrich/Projects/MastersDegree/Semesters/2019_Fall/CSE-6250-HealthData/Project/CSE6250-project/data/sleep-cassette/SC4001E0-PSG.edf...\n",
      "EDF file detected\n",
      "Setting channel info structure...\n",
      "Creating raw.info structure...\n",
      "Converting \"time\" to \"<class 'numpy.int64'>\"...\n",
      "Time Taken (Loading Data): 7\n",
      "(22, 360000, 1)\n",
      "(22,)\n",
      "Time Taken (Preprocessing Data): 0\n",
      "Training... X: (22, 360000, 1), y: (22,)\n"
     ]
    }
   ],
   "source": [
    "## This loads each psg data file INLINE with training.. I can't load all the training data at once :(\n",
    "model.train()\n",
    "for i, path in enumerate(eeg_info_df.path.values):\n",
    "    print(f'Training from data: {path}...')\n",
    "    tic = time()\n",
    "    raw_edf = read_raw_edf(os.path.join('../data', path))\n",
    "    edf_df = raw_edf.to_data_frame()\n",
    "    edf_df = edf_df[edf_df['EEG Fpz-Cz'] > -1000]  # remove outliers\n",
    "    label = eeg_info_df.label.iloc[i]\n",
    "    toc = time()\n",
    "    print(f'Time Taken (Loading Data): {round(toc-tic)}')\n",
    "    \n",
    "    tic = time()\n",
    "    X, y = make_training_set(edf_df, label)\n",
    "    trainset = TensorDataset(torch.from_numpy(X.astype('float32')), torch.from_numpy(y.astype('long')))\n",
    "    trainloader = DataLoader(trainset, batch_size=10, shuffle=True, num_workers=2)\n",
    "    toc = time()\n",
    "    print(f'Time Taken (Preprocessing Data): {round(toc-tic)}')\n",
    "    \n",
    "    total_training_tic = time()\n",
    "    print(f'Training... X: {X.shape}, y: {y.shape}')\n",
    "    for i, data in enumerate(trainloader, 0):\n",
    "        inputs, targets = data    \n",
    "        optimizer.zero_grad()\n",
    "\n",
    "        tic = time()\n",
    "        outputs = model(inputs)\n",
    "        loss = criterion(outputs, targets)\n",
    "        loss.backward()\n",
    "        optimizer.step()\n",
    "        toc = time()\n",
    "        print(f'Time Taken (Training Step {i}): {round(toc-tic)}')\n",
    "    total_training_toc = time()\n",
    "    tic = total_training_tic\n",
    "    toc = total_training_toc\n",
    "    print(f'Time Taken (Training Complete): {round(toc-tic)}')\n",
    "        \n",
    "    data = next(iter(trainloader))\n",
    "    inputs, targets = data\n",
    "    outputs = model(inputs)\n",
    "    probability, predicted = torch.max(outputs.data, 1)\n",
    "    print((targets == predicted).squeeze())\n",
    "    print(f'Training from data: {path}, is complete.')"
   ]
  }
 ],
 "metadata": {
  "kernelspec": {
   "display_name": "Python [conda env:cse6250-project-sleep] *",
   "language": "python",
   "name": "conda-env-cse6250-project-sleep-py"
  },
  "language_info": {
   "codemirror_mode": {
    "name": "ipython",
    "version": 3
   },
   "file_extension": ".py",
   "mimetype": "text/x-python",
   "name": "python",
   "nbconvert_exporter": "python",
   "pygments_lexer": "ipython3",
   "version": "3.6.7"
  }
 },
 "nbformat": 4,
 "nbformat_minor": 2
}
